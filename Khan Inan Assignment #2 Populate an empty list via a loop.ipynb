{
 "cells": [
  {
   "cell_type": "code",
   "execution_count": 1,
   "id": "0ff054c3",
   "metadata": {},
   "outputs": [
    {
     "name": "stdout",
     "output_type": "stream",
     "text": [
      "['ACE', 'AFT', 'ATP1A1', 'AGTR1', 'ATP1A2', 'AGTR2', 'NEDD4L', 'NAK', 'NCC']\n"
     ]
    }
   ],
   "source": [
    "#Creating an empty list\n",
    "list1 = []\n",
    "\n",
    "#defining list to loop through\n",
    "RAAS = ['ACE', 'SCCNIA', 'AFT', 'ATP1A1', 'REN', 'TSC', 'AGTR1', 'SCCNIG', 'NEDD4L', 'NAK', 'NCC', 'ATP1A2', 'AGTR2', 'SCCNIB']\n",
    "\n",
    "#conditional statement for the for loop. gene[0] refers to the first letter of each gene, and if it starts with \"A\", it appends to the empty list\n",
    "for gene in RAAS:\n",
    "    if gene[0] == \"A\":\n",
    "        list1.append(gene)\n",
    "\n",
    "#same thing as previous for loop except for if the gene starts with the letter \"N\"\n",
    "for gene in RAAS:\n",
    "    if gene[0] == \"N\":\n",
    "        list1.append(gene)\n",
    "        \n",
    "print(list1)"
   ]
  },
  {
   "cell_type": "code",
   "execution_count": null,
   "id": "7066a34c",
   "metadata": {},
   "outputs": [],
   "source": []
  }
 ],
 "metadata": {
  "kernelspec": {
   "display_name": "Python 3 (ipykernel)",
   "language": "python",
   "name": "python3"
  },
  "language_info": {
   "codemirror_mode": {
    "name": "ipython",
    "version": 3
   },
   "file_extension": ".py",
   "mimetype": "text/x-python",
   "name": "python",
   "nbconvert_exporter": "python",
   "pygments_lexer": "ipython3",
   "version": "3.9.12"
  }
 },
 "nbformat": 4,
 "nbformat_minor": 5
}
