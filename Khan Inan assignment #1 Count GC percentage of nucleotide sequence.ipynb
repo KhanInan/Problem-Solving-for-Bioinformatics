{
 "cells": [
  {
   "cell_type": "code",
   "execution_count": null,
   "id": "676cfb2a",
   "metadata": {},
   "outputs": [
    {
     "name": "stdout",
     "output_type": "stream",
     "text": [
      "Enter Genomic Sequence: GAGAGAGAGAGAGAGAGAGAGAGAGAGAGAGAGAGAGAGAGAGA\n",
      "This sequence has  0.5 % GC content\n",
      "length of sequence:  44\n",
      "Enter Genomic Sequence: GACT\n",
      "ERROR: sequence length is less than 35 nucleotides, enter new sequence\n",
      "length of sequence:  4\n",
      "Enter Genomic Sequence: GACTX\n",
      "ERROR: non-nucleotide characters present\n",
      "ERROR: sequence length is less than 35 nucleotides, enter new sequence\n",
      "length of sequence:  5\n"
     ]
    }
   ],
   "source": [
    "while True:\n",
    "#the whole code is wrapped in \"while true:\" and \"continue\" so that it loops back to the beginning and asks again for user input\n",
    "#this is the list of nucleotides\n",
    "    nucleotides = ['G','A','C','T', 'U']\n",
    "#this is where it asks for user input and calculates length of seq\n",
    "    seq = input('Enter Genomic Sequence: ')\n",
    "#checks if all characters in the sequence match the nucleotides in the list\n",
    "    if any(x not in nucleotides for x in seq):\n",
    "        print(\"ERROR: non-nucleotide characters present\")\n",
    "#checks if sequence is less than 53 nucleotides\n",
    "    if len(seq) < 35:\n",
    "        print ('ERROR: sequence length is less than 35 nucleotides, enter new sequence')\n",
    "        print (\"length of sequence: \",len(seq))\n",
    "#if sequence passes all checks, proceeds to calculate GC percent\n",
    "    else:\n",
    "        gCount = seq.count('G')\n",
    "        cCount = seq.count('C')\n",
    "        gcContent = (gCount + cCount) / len(seq)\n",
    "        print('This sequence has ',gcContent,'% GC content')\n",
    "        print (\"length of sequence: \",len(seq))\n",
    "continue"
   ]
  },
  {
   "cell_type": "code",
   "execution_count": null,
   "id": "0ce77252",
   "metadata": {},
   "outputs": [],
   "source": []
  }
 ],
 "metadata": {
  "kernelspec": {
   "display_name": "Python 3 (ipykernel)",
   "language": "python",
   "name": "python3"
  },
  "language_info": {
   "codemirror_mode": {
    "name": "ipython",
    "version": 3
   },
   "file_extension": ".py",
   "mimetype": "text/x-python",
   "name": "python",
   "nbconvert_exporter": "python",
   "pygments_lexer": "ipython3",
   "version": "3.9.12"
  }
 },
 "nbformat": 4,
 "nbformat_minor": 5
}
