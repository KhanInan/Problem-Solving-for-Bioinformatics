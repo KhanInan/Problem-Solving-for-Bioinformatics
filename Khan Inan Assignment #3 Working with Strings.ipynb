{
 "cells": [
  {
   "cell_type": "code",
   "execution_count": 1,
   "id": "d29352a3",
   "metadata": {},
   "outputs": [
    {
     "name": "stdout",
     "output_type": "stream",
     "text": [
      "The length of the sequence is 62 , with 16 Cytosines and 14 Guanines.\n",
      "The string \"s = ATGGAGAGCCTTGTTCTTGGTGTCAACGAGAAAACACACGTCCAACTCAGTTTGCCTGTCCT\" after slicing for the substring is: \n",
      " GTCAACGAGAAAACACACGTCCAAC\n"
     ]
    }
   ],
   "source": [
    "#Here I am specifying the base string/sequence for future calculations\n",
    "s = 'ATGGAGAGCCTTGTTCTTGGTGTCAACGAGAAAACACACGTCCAACTCAGTTTGCCTGTCCT'\n",
    "\n",
    "#This is calculation the length of the sequence\n",
    "seqlength = len(s)\n",
    "\n",
    "#Here I am counting the number of Cytosines and Guanines in the sequence\n",
    "cCount = s.count('C')\n",
    "gCount = s.count('G')\n",
    "\n",
    "#This is where I am organizing the sentence within the print statement and essentially I am replacing the X values with my calculations\n",
    "print('The length of the sequence is',seqlength,', with',cCount,'Cytosines and',gCount,'Guanines.')\n",
    "\n",
    "#Here I am slicing the sequence to obtain the substring, the 21 is where I want the slice to begin and the 46 is where I want the slice to end\n",
    "slicedstring = slice(21,46)\n",
    "\n",
    "#lastly, this is where I am printing the newly sliced substring, it is worth noting that I used \\n to go to the next line and make the displayed result look a little neater\n",
    "print('The string \"s = ATGGAGAGCCTTGTTCTTGGTGTCAACGAGAAAACACACGTCCAACTCAGTTTGCCTGTCCT\" after slicing for the substring is: \\n',s[slicedstring])"
   ]
  },
  {
   "cell_type": "code",
   "execution_count": null,
   "id": "84bf6c93",
   "metadata": {},
   "outputs": [],
   "source": []
  }
 ],
 "metadata": {
  "kernelspec": {
   "display_name": "Python 3 (ipykernel)",
   "language": "python",
   "name": "python3"
  },
  "language_info": {
   "codemirror_mode": {
    "name": "ipython",
    "version": 3
   },
   "file_extension": ".py",
   "mimetype": "text/x-python",
   "name": "python",
   "nbconvert_exporter": "python",
   "pygments_lexer": "ipython3",
   "version": "3.9.12"
  }
 },
 "nbformat": 4,
 "nbformat_minor": 5
}
