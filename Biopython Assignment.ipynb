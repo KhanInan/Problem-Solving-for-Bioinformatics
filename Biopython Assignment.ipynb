{
 "cells": [
  {
   "cell_type": "code",
   "execution_count": 2,
   "id": "ca211adc",
   "metadata": {},
   "outputs": [
    {
     "name": "stdout",
     "output_type": "stream",
     "text": [
      "['1938948393', '1938948392', '1938948391', '1190353806', '1190353802', '1190353801', '1937369842', '1061214230', '148233338', '148227672', '110347429', '4503131', '2286439351', '2171220346', '2171220345', '2171220344', '2171220343', '2171220342', '2171220341', '1189690222', '1189690214', '1189690197', '1189690175', '1189690169', '1189690154', '1189690152', '223671885', '223671883', '166795295', '45505132', '1829653613', '1802446905', '1799657612', '1799657606', '1799657604', '1238280229', '1189690177', '663071018', '289547551', '283484024', '223671888', '166795293', '4757944', '4506309', '283484020', '4507579', '283484022', '104487002', '85681908', '68565218']\n"
     ]
    }
   ],
   "source": [
    "#Importing packages\n",
    "from Bio import Entrez\n",
    "import shutil\n",
    "import os\n",
    "Entrez.email = \" ki2100@nyu.edu\"\n",
    "handle = Entrez.esearch(db =\"protein\", retmax = 50, term=\" immune checkpoint inhibitors\")\n",
    "record = Entrez.read(handle)\n",
    "print(record[\"IdList\"])\n",
    "\n",
    "SglycoProtList = record[\"IdList\"]\n",
    "SglycoProts = Entrez.efetch(db ='protein', id =SglycoProtList, rettype ='fasta', retmode = 'text')\n",
    "file = \"/Users/khani/Downloads/BiopythonAssignment.txt\"\n",
    "file_out = open(file,'w')\n",
    "file_out.write(SglycoProts.read())\n",
    "file_out.close()"
   ]
  },
  {
   "cell_type": "code",
   "execution_count": null,
   "id": "ceb3efac",
   "metadata": {},
   "outputs": [],
   "source": []
  }
 ],
 "metadata": {
  "kernelspec": {
   "display_name": "Python 3 (ipykernel)",
   "language": "python",
   "name": "python3"
  },
  "language_info": {
   "codemirror_mode": {
    "name": "ipython",
    "version": 3
   },
   "file_extension": ".py",
   "mimetype": "text/x-python",
   "name": "python",
   "nbconvert_exporter": "python",
   "pygments_lexer": "ipython3",
   "version": "3.9.12"
  }
 },
 "nbformat": 4,
 "nbformat_minor": 5
}
