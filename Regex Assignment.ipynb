{
 "cells": [
  {
   "cell_type": "markdown",
   "id": "e3246132",
   "metadata": {},
   "source": [
    " # The Power of Regular Expressions\n",
    "    \n",
    "What's a regular expression? A tool that allows you to:\n",
    "1. Find Patterns.\n",
    "1. Match and Replace.\n",
    "1. Locate patterns and their occurrences."
   ]
  },
  {
   "cell_type": "markdown",
   "id": "928899ff",
   "metadata": {},
   "source": [
    "Check out this [Python Regular Expression Tutorial!](https://www.w3schools.com/python/gloss_python_regex_functions.asp)"
   ]
  },
  {
   "cell_type": "code",
   "execution_count": 1,
   "id": "4f346f94",
   "metadata": {},
   "outputs": [
    {
     "name": "stdout",
     "output_type": "stream",
     "text": [
      "CAAT\n",
      "CAAT\n"
     ]
    }
   ],
   "source": [
    "import re\n",
    "seq1 = \"GTCTCAATGCATGTCTTCTATGCAACTAACCTCCATGTATGCCAAT\"\n",
    "# the character's 'C or T' (CAAC or CAAT), then one or more matches of \n",
    "# the character class \"AGCT' followed by CAA, C or T (CAAT or CAAC).\n",
    "#caat = re.search(r\"CAAT\", seq1)\n",
    "#print(caat)\n",
    "s =re.search (r\"(CAA[C|T])[AGCT]+(CAA[T|C])\", seq1)\n",
    "print(s.group(1))\n",
    "print(s.group(2))"
   ]
  },
  {
   "cell_type": "code",
   "execution_count": null,
   "id": "426db9f3",
   "metadata": {},
   "outputs": [],
   "source": [
    "# The group method will return each match in succession. In this example\n",
    "# the match objects are the patterns wrapped in parenthesis.\n",
    "# There are two match object patterns and we access them like this:\n",
    "#print(s.group(2))"
   ]
  },
  {
   "cell_type": "markdown",
   "id": "029828dc",
   "metadata": {},
   "source": [
    "## Predicting Exons In a Sequence\n",
    "We can use the grammar of genomics to get an idea of what exist in \n",
    "nucleotide sequence. Let's demonstrate with regular expressions."
   ]
  },
  {
   "cell_type": "code",
   "execution_count": 2,
   "id": "802b881a",
   "metadata": {},
   "outputs": [
    {
     "name": "stdout",
     "output_type": "stream",
     "text": [
      "['ggtattgatttaggtacaacatactcgtgtgttgctcactttgctaatga', 'tcgtgtggacattattgccaacgatcaaggtaacagaaccactccatctt', 'ttgtcgctttcactgacactgaaagattgattggtgatgctgctaagaat', 'caagctgctatgaatccttcgaataccgttttcgacgctaagcgtttgat', 'cggtagaaacttcaacgacccagaagtgcaggctgacatgaagcacttcc', 'cattcaagttgatcgatgttgacggtaagccacaaattcaagttgaattt', 'aagggtgaaaccaagaactttaccccagaacaaatctcctccatggtctt', 'gggtaagatgaaggaaactgccgaatcttacttgggtgccaaggtcaatg', 'acgctgtcgtcactgtcccagcttacttcaacgattctcaaagacaagct', 'accaaggatgctggtaccattgctggtttgaatgtcttgcgtattattaa', 'cgaacctaccgccgctgccattgcttacggtttggacaagaagggtaagg', 'aagaacacgtcttgattttcgacttgggtggtggtactttcgatgtctct', 'ttgttgtccattgaagacggtatctttgaagttaaggccaccgctggtga', 'cacccatttgggtggtgaagattttgacaacagattggtcaaccacttca', 'tccaagaattcaagagaaagaacaagaaggacttgtctaccaaccaaaga', 'gctttgagaagattaagaactgcttgtgaaagagccaagagaactttgtc', 'ttcctccgctcaaacttccgttgaaattgactctttgttcgaaggtatcg', 'atttctacacttccatcaccagagccagattcgaagaattgtgtgctgac', 'ttgttcagatctactttggacccagttgaaaaggtcttgagagatgctaa', 'attggacaaatctcaagtcgatgaaattgtcttggtcggtggttctacca', 'gaattccaaaggtccaaaaattggtcactgactacttcaacggtaaggaa', 'ccaaacagatctatcaacccagatgaagctgttgcttacggtgctgctgt', 'tcaagctgctattttgactggtgacgaatcttccaagactcaagatctat', 'tgttgttggatgtcgctccattatccttgggtattgaaactgctggtggt', 'gtcatgaccaagttgattccaagaaactctaccattccaacaaagaagtc', 'cgagatcttttccacttatgctgataaccaaccaggtgtcttgattcaag', 'tctttgaaggtgaaagagccaagactaaggacaacaacttgttgggtaag', 'ttcgaattgagtggtattccaccagctccaagaggtgtcccacaaattga', 'agtcactttcgatgtcgactctaacggtattttgaatgtttccgccgtcg', 'aaaagggtactggtaagtctaacaagatcactattaccaacgacaagggt', 'agattgtccaaggaagatatcgaaaagatggttgctgaagccgaaaaatt', 'caaggaagaagatgaaaaggaatctcaaagaattgcttccaagaaccaat', 'tggaatccattgcttactctttgaagaacaccatttctgaagctggtgac', 'aaattggaacaagctgacaaggacaccgtcaccaagaaggctgaagagac', 'tatttcttggttagacagcaacaccactgccagcaagga']\n"
     ]
    }
   ],
   "source": [
    "dna = \"\"\"\n",
    "ggtattgatttaggtacaacatactcgtgtgttgctcactttgctaatga\n",
    "tcgtgtggacattattgccaacgatcaaggtaacagaaccactccatctt\n",
    "ttgtcgctttcactgacactgaaagattgattggtgatgctgctaagaat\n",
    "caagctgctatgaatccttcgaataccgttttcgacgctaagcgtttgat\n",
    "cggtagaaacttcaacgacccagaagtgcaggctgacatgaagcacttcc\n",
    "cattcaagttgatcgatgttgacggtaagccacaaattcaagttgaattt\n",
    "aagggtgaaaccaagaactttaccccagaacaaatctcctccatggtctt\n",
    "gggtaagatgaaggaaactgccgaatcttacttgggtgccaaggtcaatg\n",
    "acgctgtcgtcactgtcccagcttacttcaacgattctcaaagacaagct\n",
    "accaaggatgctggtaccattgctggtttgaatgtcttgcgtattattaa\n",
    "cgaacctaccgccgctgccattgcttacggtttggacaagaagggtaagg\n",
    "aagaacacgtcttgattttcgacttgggtggtggtactttcgatgtctct\n",
    "ttgttgtccattgaagacggtatctttgaagttaaggccaccgctggtga\n",
    "cacccatttgggtggtgaagattttgacaacagattggtcaaccacttca\n",
    "tccaagaattcaagagaaagaacaagaaggacttgtctaccaaccaaaga\n",
    "gctttgagaagattaagaactgcttgtgaaagagccaagagaactttgtc\n",
    "ttcctccgctcaaacttccgttgaaattgactctttgttcgaaggtatcg\n",
    "atttctacacttccatcaccagagccagattcgaagaattgtgtgctgac\n",
    "ttgttcagatctactttggacccagttgaaaaggtcttgagagatgctaa\n",
    "attggacaaatctcaagtcgatgaaattgtcttggtcggtggttctacca\n",
    "gaattccaaaggtccaaaaattggtcactgactacttcaacggtaaggaa\n",
    "ccaaacagatctatcaacccagatgaagctgttgcttacggtgctgctgt\n",
    "tcaagctgctattttgactggtgacgaatcttccaagactcaagatctat\n",
    "tgttgttggatgtcgctccattatccttgggtattgaaactgctggtggt\n",
    "gtcatgaccaagttgattccaagaaactctaccattccaacaaagaagtc\n",
    "cgagatcttttccacttatgctgataaccaaccaggtgtcttgattcaag\n",
    "tctttgaaggtgaaagagccaagactaaggacaacaacttgttgggtaag\n",
    "ttcgaattgagtggtattccaccagctccaagaggtgtcccacaaattga\n",
    "agtcactttcgatgtcgactctaacggtattttgaatgtttccgccgtcg\n",
    "aaaagggtactggtaagtctaacaagatcactattaccaacgacaagggt\n",
    "agattgtccaaggaagatatcgaaaagatggttgctgaagccgaaaaatt\n",
    "caaggaagaagatgaaaaggaatctcaaagaattgcttccaagaaccaat\n",
    "tggaatccattgcttactctttgaagaacaccatttctgaagctggtgac\n",
    "aaattggaacaagctgacaaggacaccgtcaccaagaaggctgaagagac\n",
    "tatttcttggttagacagcaacaccactgccagcaagga\"\"\"\n",
    "dna = dna.split('\\n') # Create list by splitting on newlines\n",
    "del dna[0] # delete the first index because it's empty\n",
    "print(dna)"
   ]
  },
  {
   "cell_type": "code",
   "execution_count": null,
   "id": "03f43954",
   "metadata": {},
   "outputs": [],
   "source": [
    "dna_string = ''.join(dna)\n",
    "print(dna_string)"
   ]
  },
  {
   "cell_type": "code",
   "execution_count": null,
   "id": "de1c1565",
   "metadata": {},
   "outputs": [],
   "source": [
    "len(dna_string)"
   ]
  },
  {
   "cell_type": "code",
   "execution_count": 9,
   "id": "5373b3e2",
   "metadata": {},
   "outputs": [],
   "source": [
    "import re\n",
    "# My intron pattern\n",
    "dna_string = \"\"\">UDW38242.1 |surface glycoprotein|MS|GenBank|ssRNA(+)\n",
    "MFVFLVLLPLVSSQCVNLRTRTQLPPAYTNSFTRGVYYPDKVFRSSVLHSTQDLFLPFFS\n",
    "NVTWFHAIHVSGTNGTKRFDNPVLPFNDGVYFASTEKSNIIRGWIFGTTLDSKTQSLLIV\n",
    "NNATNVVIKVCEFQFCNDPFLDVYYHKNNKSWMESGVYSSANNCTFEYVSQPFLMDLEGK\n",
    "QGNFKNLREFVFKNIDGYFKIYSKHTPINLVRDLPQGFSALEPLVDLPIGINITRFQTLL\n",
    "ALHRSYLTPGDSSSGWTAGAAAYYVGYLQPRTFLLKYNENGTITDAVDCALDPLSETKCT\n",
    "LKSFTVEKGIYQTSNFRVQPTESIVRFPNITNLCPFGEVFNATRFASVYAWNRKRISNCV\n",
    "ADYSVLYNSASFSTFKCYGVSPTKLNDLCFTNVYADSFVIRGDEVRQIAPGQTGKIADYN\n",
    "YKLPDDFTGCVIAWNSNNLDSKVGGNYNYRYRLFRKSNLKPFERDISTEIYQAGSKPCNG\n",
    "VEGFNCYFPLQSYGFQPTNGVGYQPYRVVVLSFELLHAPATVCGPKKSTNLVKNKCVNFN\n",
    "FNGLTGTGVLTESNKKFLPFQQFGRDIADTTDAVRDPQTLEILDITPCSFGGVSVITPGT\n",
    "NTSNQVAVLYQGVNCTEVPVAIHADQLTPTWRVYSTGSNVFQTRAGCLIGAEHVNNSYEC\n",
    "DIPIGAGICASYQTQTNSRRRARSVASQSIIAYTMSLGAENSVAYSNNSIAIPTNFTISV\n",
    "TTEILPVSMTKTSVDCTMYICGDSTECSNLLLQYGSFCTQLNRALTGIAVEQDKNTQEVF\n",
    "AQVKQIYKTPPIKDFGGFNFSQILPDPSKPSKRSFIEDLLFNKVTLADAGFIKQYGDCLG\n",
    "DIAARDLICAQKFNGLTVLPPLLTDEMIAQYTSALLAGTITSGWTFGAGAALQIPFAMQM\n",
    "AYRFNGIGVTQNVLYENQKLIANQFNSAIGKIQDSLSSTASALGKLQNVVNQNAQALNTL\n",
    "VKQLSSNFGAISSVLNDILSRLDKVEAEVQIDRLITGRLQSLQTYVTQQLIRAAEIRASA\n",
    "NLAATKMSECVLGQSKRVDFCGKGYHLMSFPQSAPHGVVFLHVTYVPAQEKNFTTAPAIC\n",
    "HDGKAHFPREGVFVSNGTHWFVTQRNFYEPQIITTDNTFVSGNCDVVIGIVNNTVYDPLQ\n",
    "PELDSFKEELDKYFKNHTSPDVDLGDISGINASVVNIQKEIDRLNEVAKNLNESLIDLQE\n",
    "LGKYEQYIKWPWYIWLGFIAGLIAILMVTIMLCCMTSCCSCLKGCCSCGSCCKFDEDDSE\n",
    "PVLKGVKLHYT\n",
    ">UDW40541.1 |surface glycoprotein|TX|GenBank|ssRNA(+)\n",
    "MFVFLVLLPLVSSQCVNLTTRTQLPPAYTNSFTRGVYYPDKVFRSSVLHSTQDLFLPFFS\n",
    "NVTWFHAISGTNGTKRXXXXXXXXXXXXXXXXXXXXXXXXXXXXXXXXXXXXXXXXXXNN\n",
    "ATNVVIKVCEFQFCNDPFLGVYHKNNKSWMESEFRVYSSANNCTFEYVSQPFLMDLEGKQ\n",
    "GNFKNLREFVFKNIDGYFKIYXXXXXXXXXXXXXXXXXXXXXXXXXXXXXXXXXXXXXXX\n",
    "LHRSYLTPGDSSSGWTAGAAAYYVGYLQPRTFLLKYNENGTITDAVDCALDPLSETKXXX\n",
    "XXXXXXXXXXXXXXXXXXXXXXXXXXXXXXXXXXXXXXXXXXXXXXXXXXXXXXXXXXXX\n",
    "XXXXXYNSASFSTFKCYGVSPTKLNDLCFTNVYADSFVIRGDEVRQXXXXXXXXXXXXXX\n",
    "XXXXXXXXXXXXXXSNXXXXXXXXXXXXXXXXXXXXXXXPFERDISTEIYQAGSTPCXXX\n",
    "XXFNCYFPLQSYGFQPTYGVGYQPYRVVVLSFELLHAPATVCGPKKSTNLVKNKCVNFNF\n",
    "NGLTGTGVLTESNKKFLPFQQFGRDIDDTTDAVRDPQTLEILDITPCSFGGVSVITPGTN\n",
    "TSNQVAVLYQGVNCTEVPVAIHADQLTPTWRVYSTGSNVFQTRAGCLIGAEHVNNSYECD\n",
    "IPIGAGICASYQTQTNSHRRARSVASQSIIAYTMSLGAENSVAYSNNSIAIPINFTISVT\n",
    "TEILPVSMTKTSVDCTMYICGDSTECSNLLLQYGSFCTQLNRALTXXXXXXXXXXXXXXX\n",
    "XXXXXXXXXXXXXXXXXXXXXXXXXXXXXXXXXXXXXXXXXXXXXXXXXXXXXXXXXXXX\n",
    "XXXXXXXXXXXXXXXXXXXXXXXXXXIAQYTSALLAGTIXXXXXXXXXXXXQIPFAMQMA\n",
    "YRFNGIGVTQNVLYENQKLIANQFNSAIGKIQDSLSSTASALGKLQDVVNQNAQALNTLV\n",
    "KQLSSNFGAISSVLNDILARLDKVEAEVQIDRLITGRLQSLQTYVTQQLIRAAEIRASAN\n",
    "LAATKMSECVLGQSKRVDFCGKGYHLMSFPQSAPHGVVFLHVTYVPAQEKNFTTAPAICH\n",
    "DGKAHFPREGVFVSNGTHWFVTQRNFYEPQIITTHNTFVSGNCDVVIGIVNNTVYDXXXX\n",
    "XXXXXXXXXXKYFKNHTSPDVDLGDISGINASVVNIQKEIDRLNEVAKNLNESLIDLQEL\n",
    "GKYEQYIKWPWYIWLGFIAGLIAIVMVTIMLCCMTSCCSCLKGCCSCGSCCKFDEDDSEP\n",
    "VLKGVKLHYT\n",
    ">UDW40565.1 |surface glycoprotein|TX|GenBank|ssRNA(+)\n",
    "MFVFLVLLPLVSSQCVNLTTRTQLPPAYTNSFTRGVYYPDKVFRSSVLHSTQDLFLPFFS\n",
    "NVTWFHAISGTNGTKRXXXXXXXXXXXXXXXXXXXXXXXXXXXXXXXXXXXXXXXXXXNN\n",
    "ATNVVIKVCEFQFCNDPFLGVYHKNNKSWMESEFRVYSSANNCTFEYVSQPFLMDLEGKQ\n",
    "GNFKNLREFVFKNIDGYFKIYSKHTPINLVRDLPQGFSALEPLVDLPIGINITRFQTLLA\n",
    "LHRSYLTPGDSSSGWTAGAAAYYVGYLQPRTFLLKYNENGTITDAVDCALDPLSETKCTL\n",
    "KSFTVEKGIYQTSNFRVQPTESIVRFPNITNLCPFGEVFNATRFASVYAWNRKRISNCVA\n",
    "DYSVLYNSASFSTFKCYGVSPTKLNDLCFTNVYADSFVIRGDEVRQIAPGQTGKIADYNY\n",
    "KLPDDFTGCVIAWNSNNLDSKVGGNYNYLYRLFRKSNLKPFERDISTEIYQAGSTPCNGV\n",
    "EGFNCYFPLQSYGFQPTYGVGYQPYRVVVLSFELLHAPATVCGPKKSTNLVKNKCVNFNF\n",
    "NGLTGTGVLTESNKKFLPFQQFGRDIDDTTDAVRDPQTLEILDITPCSFGGVSVITPGTN\n",
    "TSNQVAVLYQGVNCTEVPVAIHADQLTPTWRVYSTGSNVFQTRAGCLIGAEHVNNSYECD\n",
    "IPIGAGICASYQTQTNSHRRARSVASQSIIAYTMSLGAENSVAYSNNSIAIPINFTISVT\n",
    "TEILPVSMTKTSVDCTMYICGDSTECSNLLLQYGSFCTQLNRALTGIAVEQDKNTQEVFA\n",
    "QVKQIYKTPPIKDFGGFNFSQILPDPSKPSKRSFIEDLLFNKVTLADAGFIKXXXXCLGD\n",
    "IAARDLICAQKFNGLTVLXXXXXXXXIAQYTSALLAGTITSGWTFGAGAALQIPFAMQMA\n",
    "YRFNGIGVTQNVLYENQKLIANQFNSAIGKIQDSLSSTASALGKLQDVVNQNAQALNTLV\n",
    "KQLSSNFGAISSVLNDILARLDKVEAEVQIDRLITGRLQSLQTYVTQQLIRAAEIRASAN\n",
    "LAATKMSECVLGQSKRVDFCGKGYHLMSFPQSAPHGVVFLHVTYVPAQEKNFTTAPAICH\n",
    "DGKAHFPREGVFVSNGTHWFVTQRNFYEPQIITTHNTFVSGNCDVVIGIVNNTVYDPLQP\n",
    "ELDSFKEELDKYFKNHTSPDVDLGDISGINASVVNIQKEIDRLNEVAKNLNESLIDLQEL\n",
    "GKYEQYIKWPWYIWLGFIAGLIAIVMVTIMLCCMTSCCSCLKGCCSCGSCCKFDEDDSEP\n",
    "VLKGVKLHYT\n",
    ">UDW49791.1 |surface glycoprotein|GA|GenBank|ssRNA(+)\n",
    "MFVFLVLLPLVSSQCVNLRTRTQLPPAYTNSFTRGVYYPDKVFRSSVLHSTQDLFLPFXX\n",
    "XXXXXXXXXXXXXXXXXXXXXXXXXXXXGVYFASTXXXXXXXXXIFGTTXXXXXXXXXXX\n",
    "XXXXXXXIXXXXFQFCNDPFLGVYYHKNNKSWMESGVYSSANNCTFEYVSQPFLMDLEGK\n",
    "QGNFKNLREFVFKNIDGYFKIYSKHTPINLVRDLPQGFSALEPLVDLPIGINITRFQTLL\n",
    "ALHRSYLTPGDSSSGWTAGAAAYYVGYLQPRTFLLKYNENGTITDAVDCALDPLSETKCT\n",
    "LKSFTVEKGIYQTSNFRVQPTESIVRFPNITNLCPFGEVFNATRFASVYAWNRKRISNCV\n",
    "ADYSVLYNSASFSTFKCYGVSPTKLNDLCFTNVYADSFVIRGDEVRQIAPGQTGKIADYN\n",
    "YKLPDDFTGCVIAWNSNNLDSKVGGNYNYRYRLFRKSNLKPFERDISTEIYQAGSKPCNG\n",
    "VEGFNCYFPLQSYGFQPTNGVGYQPYRVVVLSFELLHAPATVCGPKKSTNLVKNKCVNFN\n",
    "FNGLTGTGVLTESNKKFLPFQQFGRDIADTTDAVRDPQTLEILDITPCSFGGVSVITPGT\n",
    "NTSNQVAVLYQGVNCTEVPVAIHADQLTPTWRVYSTGSNVFQTRAGCLIGAEHVNNSYEC\n",
    "DIPIGAGICASYQTQTNSRRRARSVASQSIIAYTMSLGAENSVAYSNNSIAIPTNFTISV\n",
    "TTEILPVSMTKTSVDCTMYICGDSTECSNLLLQYGSFCTQLNRALTGIAVEQDKNTQEVF\n",
    "AQVKQIYKTPPIKDFGGFNFSQILPDPSKPSKRSFIEDLLFNKVTLADAGFIKQYGDCLG\n",
    "DIAARDLICAQKFNGLTVLPPLLTDEMIAQYTSALLAGTITSGWTFGAGAALQIPFAMQM\n",
    "AYRFNGIGVTQNVLYENQKLIANQFNSAIGKIQDSLSSTASALGKLQNVVNQNAQALNTL\n",
    "VKQLSSNFGAISSVLNDILSRLDKVEAEVQIDRLITGRLQSLQTYVTQQLIRAAEIRASA\n",
    "NLAATKMSECVLGQSKRVDFCGKGYHLMSFPQSAPHGVVFLHVTYVPAQEKNFTTAPAIC\n",
    "HDGKAH\n",
    ">UDW51945.1 |surface glycoprotein|NC|GenBank|ssRNA(+)\n",
    "MFVFLVLLPLVSSQCVNLRTRTQLPPAYTNSFTRGVYYPDKVFRSSVLHSTQDLFLPFFS\n",
    "NVTWFHAIHVSGTNGTKRFDNPVLPFNDGVYFASTEKSNIIRGWIFGTTLDSKTQSLLIV\n",
    "NNATNVVIKVCEFQFCNDPFLGVYYHKNNKSWMESGVYSSANNCTFEYVSQPFLMDLEGK\n",
    "QGNFKNLREFVFKNIDGYFKIYSKHTPINLVRDLPQGFSVLEPLVDLPIGINITRFQTLL\n",
    "ALHRSYLTPGDSSSGWTAGAAAYYVGYLQPRTFLLKYNENGTITDAIDCALDPLSETKCT\n",
    "LKSFTVEKGIYQTSNFRVQPTESIVRFPNITNLCPFGEVFNATRFASVYAWNRKRISNCV\n",
    "ADYSVLYNSASFSTFKCYGVSPTKLNDLCFTNVYADSFVIRGDEVRQIAPGQTGKIADYN\n",
    "YKLPDDFTGCVIAWNSNNLDSKVGGNYNYRYRLFRKSNLKPFERDISTEIYQAGSKPCNG\n",
    "VEGFNCYFPLQSYGFQPTNGVGYQPYRVVVLSFELLHAPATVCGPKKSTNLVKNKCVNFN\n",
    "FNGLTGTGVLTESNKKFLPFQQFGRDIADTTDAVRDPQTLEILDITPCSFGGVSVITPGT\n",
    "NTSNQVAVLYQGVNCTEVPVAIHADQLTPTWRVYSTGSNVFQTRAGCLIGAEHVNNSYEC\n",
    "DIPIGAGICASYQTQTNSRRRARSVASQSIIAYTMSLGAENSVAYSNNSIAIPTNFTISV\n",
    "TTEILPVSMTKTSVDCTMYICGDSTECSNLLLQYGSFCTQLNRALTGIAVEQDKNTQEVF\n",
    "AQVKQIYKTPPIKDFGGFNFSQILPDPSKPSKRSFIEDLLFNKVTLADAGFIKQYGDCLG\n",
    "DIAARDLICAQKFNGLTVLPPLLTDEMIAQYTSALLAGTITSGWTFGAGAALQIPFAMQM\n",
    "AYRFNGIGVTQNVLYENQKLIANQFNSAIGKIQDSLSSTASALGKLQNVVNQNAQALNTL\n",
    "VKQLSSNFGAISSVLNDILSRLDKVEAEVQIDRLITGRLQSLQTYVTQQLIRAAEIRASA\n",
    "NLAATKMSECVLGQSKRVDFCGKGYHLMSFPQSAPHGVVFLHVTYVPAQEKNFTTAPAIC\n",
    "HDGKAHFPREGVFVSNGTHWFVTQRNFYEPQIITTDNTFVSGNCDVVIGIVNNTVYDPLQ\n",
    "PELDSFKEELDKYFKNHTSPDVDLGDISGINASVVNIQKEIDRLNEVAKNLNESLIDLQE\n",
    "LGKYEQYIKWPWYIWLGFIAGLIAIVMVTIMLCCMTSCCSCLKGCCSCGSCCKFDEDDSE\n",
    "PVLKGVKLHYTFPREGVFVSNGTHWFVTQRNFYEPQIITTDNTFVSGNCDVVIGIVNNTV\n",
    "YDPLQPELDSFKEELDKYFKNHTSPDVDLGDISGINASVVNIQKEIDRLNEVAKNLNESL\n",
    "IDLQELGKYEQYIKWPWYIWLGFIAGLIAIVMVTIMLCCMTSCCSCLKGCCSCGSCCKFD\n",
    "EDDSEPVLKGVKLHYT\n",
    "\"\"\"\n",
    "get_introns = re.finditer(r'gt[atgc]{30,40}ag',dna_string)\n",
    "\"\"\"In the sequence dna_string I'm looking for the pattern of 'gt' \n",
    "followed by 30 to 40 characters of the either 'a,t,g, or c' in any\n",
    "combination followed by the character 'ag'\n",
    "\"\"\"\n",
    "# Create an empty list that will be populate by the RE get_introns\n",
    "introns = []\n",
    "for match in get_introns:\n",
    "# 'gt' is the beginning and 'ag' is the ending coordinates for all matches found in the sequence 'dna_string'\n",
    "# together the form a span.\n",
    "    gt = match.start() \n",
    "    ag = match.end()    # end of match\n",
    "    introns.append(match.span())"
   ]
  },
  {
   "cell_type": "code",
   "execution_count": null,
   "id": "f58507a5",
   "metadata": {},
   "outputs": [],
   "source": [
    "print(introns) # The empty list that was populate by the RE get_introns"
   ]
  },
  {
   "cell_type": "markdown",
   "id": "c4a8ab18",
   "metadata": {},
   "source": [
    "##  Get a List of the Counts and Coordinates of Every Group and Span\n",
    "\n",
    "If we defined a first or second match we would access it by using\n",
    "'2' or '3' as the argument for the group method.\n",
    "Then capturing the match object with the group method many times is part of a decision on what path to take in your analysis. Let's print those out with a more descriptive formatted message.\n",
    "\n",
    "These operations are useful in genomics. The location of certain patterns can provide information about regulatory elements and/or the acquisition of the genomic coordinates in raw sequence data.  "
   ]
  },
  {
   "cell_type": "code",
   "execution_count": null,
   "id": "43f1c8ca",
   "metadata": {},
   "outputs": [],
   "source": [
    "#Reformat this without the 'str' function. Remember the other formatting options?\n",
    "seqx = \"GTCTCAATGCATGTCTTCTATGCAACTAACCTCCATGTATGC\"\n",
    "s = (r\"GAA[C|T][AGCT]+(CAA[T|C])\", seqx)\n",
    "\n",
    "print(\"Thefirst match is \" + str(s.group(1)) + \" location coordinates are \" + str(s.span(1)) +\".\\n\"\n",
    "+ \" The second match is \" + str(s.group(2)) + \" location coordinates are \" + str(s.span(2)) + \".\\n\")"
   ]
  },
  {
   "cell_type": "code",
   "execution_count": 3,
   "id": "7493ad2c",
   "metadata": {},
   "outputs": [
    {
     "name": "stdout",
     "output_type": "stream",
     "text": [
      "TGA\n",
      "(173, 176)\n"
     ]
    }
   ],
   "source": [
    "#Assignment part1 is to get all of the occurrences of the match and each \n",
    "# matching span\n",
    "import re\n",
    "cDNA = \"\"\"CCACGCGTCCGCCGCGACCTGCGTTTTCCTGGGGGTCCGCAACTCTGGCTTG\n",
    "ACCCAAGGACCCGGCCACCCCCTCAGGACAACTCGCATCTCAGCAGAGCAGCCCCTGGCCCAGG\n",
    "TCCACCCATAGGCAGATGGCCTCCGCCCCACCCCCGGGAGGATTTCTTAATGGGGTGAAAATGC\n",
    "CAGTCCCCGAAGCCAGGGTTCCGGGACCCCCGGGGCCGAGCTGGGCGCGGGAGCCCCGCAGGGG\n",
    "CGGAGAGACCCGGCGAGCCTGAAGAAGTGGAGGAGAGATTACACAACTTCAGTGGGGCGTACCC\n",
    "ATCCTGTCTTCCTGTTCACCCTCCTCTGCCCCCAACTCCATCTCTGAGACCTCCTGCCCCCCCA\n",
    "AAAAAAGAAGTCGCTCGCGGGCTCTGTCTGCAGAGAGCCAGGGTGA\"\"\"\n",
    "# create RE using search method\n",
    "s = re.search(r\"(TGA)\", cDNA) # Get the group and the span\n",
    "print(s.group(1))\n",
    "print(s.span())"
   ]
  },
  {
   "cell_type": "markdown",
   "id": "935b8a66",
   "metadata": {},
   "source": [
    "How would we get the other occurrences? Play around in the cell below to come up with a solution."
   ]
  },
  {
   "cell_type": "code",
   "execution_count": null,
   "id": "8eb7a507",
   "metadata": {},
   "outputs": [],
   "source": [
    "# Work on code to get all of the matches"
   ]
  },
  {
   "cell_type": "markdown",
   "id": "66148b87",
   "metadata": {},
   "source": [
    "## Let's demonstrate with another example!"
   ]
  },
  {
   "cell_type": "code",
   "execution_count": null,
   "id": "9f147410",
   "metadata": {},
   "outputs": [],
   "source": [
    "#Assignment part 2 is to get all of the occurrences of the match \n",
    "# and each matching span\n",
    "t = re.search(r\"(AAA[T|A])\",cDNA)\n",
    "print(t.group())\n",
    "print(t.span())"
   ]
  },
  {
   "cell_type": "code",
   "execution_count": null,
   "id": "a0afb5bd",
   "metadata": {},
   "outputs": [],
   "source": [
    "# Do the same here. Get all of the matches of the RE."
   ]
  },
  {
   "cell_type": "markdown",
   "id": "fed966d8",
   "metadata": {},
   "source": [
    "The following are examples of performing operations on match\n",
    "objects. The code example will work through finding the match.\n",
    "then getting the match string and genomic coordinates of each\n",
    "match object. The match objects are searched using the finditer\n",
    "regex method. All of the match objects are identified via a for\n",
    "loop. Let's start the demonstration!\n",
    "Query search/finditer object with group and span functions."
   ]
  },
  {
   "cell_type": "code",
   "execution_count": 7,
   "id": "64d2035a",
   "metadata": {},
   "outputs": [
    {
     "name": "stdout",
     "output_type": "stream",
     "text": [
      "GGCGGC->(1011, 1017)\n",
      "\n",
      "GGCGGC->(1023, 1029)\n",
      "\n",
      "GGCGGC->(1098, 1104)\n",
      "\n",
      "GGCGGC->(1377, 1383)\n",
      "\n",
      "GGCGGC->(1388, 1394)\n",
      "\n"
     ]
    }
   ],
   "source": [
    "import re \n",
    "seqA = \"\"\"TGCCAGCTGCATCTCAAGGGCAGGGGCCAGGGTCAGAACAGGAGGCCCCTTTCTAGTGGATGCAACACCG\n",
    "CACAGCAGCGCAGGACAAGGCTGTCTCACCTGCTGTTACCAACGCCCCCAGGTTGTGTTTCTCTTCGGAA\n",
    "CGCTCCAGATGCAATGCCGATCTGGGCACGCAGGGAGGTGGGGGGTGATGGGAAGCTCACCAGGAACCAG\n",
    "GGACTGGGGCCCAGACTGACCTGTCAGAAGGCACCAAGGTGGACGTGGTGTGGCCGGTCCTGCTTCACTA\n",
    "GCCTTGCTCCTCCTAGTGGGAGGCCGTGCACTCTGCCAACCCGCTATCCCCCACCCTCACCCTGCCTCGG\n",
    "ATCCACACCACCTTCCTGCTGGGAGGTGTGGGGTGACAGGAAGCTCTTGCCCCACACCATGGTCCTGGCG\n",
    "CGGTCCTGGTGTGAGACATCCTGCATTTGAAACAGCTGTGTGACTTCAGGAGAGTTACTTGACCTTTCTG\n",
    "TCTCAGCGTCTTCTGCAAAAGACTGAACAGGAACTCCGTGGCTCGGGCGAACTCACTCCTGTCAAGTGCA\n",
    "TAGGAAGGGGCACGAGTGGGCGGGGAGGTGCTGCCCTGTTATTCACAGAACACTTTGCCCAGGCAACACA\n",
    "CTACAAATCCACAACCTCGCTCCCTGCAGGTGCACTGAGACCACCCACGCCCTCCCGGACACCAACGCCC\n",
    "ACCATCAGATTCGCTGCGCAAAGTCCCAGAGCCGCCGGCGCACGCTCACACCCCGGCGAGCAGCCCCCAG\n",
    "CTCCCTCCCTCCGAGAGGAGCCCGGTCCGCGACCAGCCCAGCCCATCCCAGTCCCGCGCGGAGTCCTGGA\n",
    "TTCCAGCCGCTCGCAGTGACTCGGTACTCGGGATAGTGCCGGGGGCCGCAGCCCTGTCCCGCTGCCGCCG\n",
    "CCGGATGCCCCGAGTCGGCCGTCACGCACCCCCCGCGGGAGCCCGCGCCGCCCGCCGCGCCGGGGCCGTT\n",
    "TAAATGGGCCAAGTTGTGGCGGCGGCGTCGGCGGCGGAGTCTCCCAAGTCCCCGCCGGGCGGGCGCGCGC\n",
    "CAGTGGACGCGGGTGCACGACTGACGCGGCCCGGGCGGCGGGGCGGGGGCTTGGGACCCCCGAGAGGGGC\n",
    "GGGGACTCCGCGACTCCTCGCTGCCGGGCTCGGCCTGGCGGGTGGGTCGGCGAGCCGGGCGTGGGACTGC\n",
    "CCCGGGCGCGGGCGCTGGTGGCCGGGGCGCGGGACTCCAGACGCCCCGGGGAGCCCCGAGGCCCTGGAAC\n",
    "TGCGGCGCTCGGCGAGTCGATCCGGGATCGATAGCAGCTCCATGTCTCCGGCCTCTGAGGCCCCGCCGGC\n",
    "CGGCTGGGCAGTCCGGGGAGGCCTGGCGGGCGGCGCGTAGGCGGCGGCTGCGGGCGCCGGGGCGCACTAG\n",
    "CGGACGGCGTGGGCGCGCGGCCAGGCGCCTCCCCGGCCCCCGCGACCCAACTCCAGCCCGGGCCGGAATA\"\"\"\n",
    "# create the regex for iterable object with finditer\n",
    "gc_motif = re.finditer(\"GGCGGC\", seqA)\n",
    "# Print output\n",
    "\"\"\"for n in gc_motif:\n",
    "    print (n.group())\n",
    "    print (n.span())\n",
    "    # GGCGGC: (1011, 1017)\"\"\"\n",
    "for n in gc_motif:\n",
    "    print(n.group() + \"->\" + str(n.span()) + \"\\n\")"
   ]
  },
  {
   "cell_type": "markdown",
   "id": "23851889",
   "metadata": {},
   "source": [
    "The above output is a lot cleaner! This would look good in a report!"
   ]
  },
  {
   "cell_type": "markdown",
   "id": "c60dc34c",
   "metadata": {},
   "source": [
    "## Let's Look at Another Way Of Getting all of the Exons with the RE split Method!\n",
    "\n",
    "We will use the following steps:\n",
    "1. Get all occurrences that may be exons.\n",
    "1. Remove the newlines from the sequences.\n",
    "1. Push each potential exon into a list.\n"
   ]
  },
  {
   "cell_type": "code",
   "execution_count": null,
   "id": "6098d897",
   "metadata": {},
   "outputs": [],
   "source": [
    "import re\n",
    "dna = \"\"\"TGCCAGCTGCATCTCAAGGGCAGGGGCCAGGGTCAGAACAGGAGGCCCCTTTCTAGTGGATGCAACACCG\n",
    "CACAGCAGCGCAGGACAAGGCTGTCTCACCTGCTGTTACCAACGCCCCCAGGTTGTGTTTCTCTTCGGAA\n",
    "CGCTCCAGATGCAATGCCGATCTGGGCACGCAGGGAGGTGGGGGGTGATGGGAAGCTCACCAGGAACCAG\n",
    "GGACTGGGGCCCAGACTGACCTGTCAGAAGGCACCAAGGTGGACGTGGTGTGGCCGGTCCTGCTTCACTA\n",
    "GCCTTGCTCCTCCTAGTGGGAGGCCGTGCACTCTGCCAACCCGCTATCCCCCACCCTCACCCTGCCTCGG\n",
    "ATCCACACCACCTTCCTGCTGGGAGGTGTGGGGTGACAGGAAGCTCTTGCCCCACACCATGGTCCTGGCG\n",
    "CGGTCCTGGTGTGAGACATCCTGCATTTGAAACAGCTGTGTGACTTCAGGAGAGTTACTTGACCTTTCTG\n",
    "TCTCAGCGTCTTCTGCAAAAGACTGAACAGGAACTCCGTGGCTCGGGCGAACTCACTCCTGTCAAGTGCA\n",
    "TAGGAAGGGGCACGAGTGGGCGGGGAGGTGCTGCCCTGTTATTCACAGAACACTTTGCCCAGGCAACACA\n",
    "CTACAAATCCACAACCTCGCTCCCTGCAGGTGCACTGAGACCACCCACGCCCTCCCGGACACCAACGCCC\n",
    "ACCATCAGATTCGCTGCGCAAAGTCCCAGAGCCGCCGGCGCACGCTCACACCCCGGCGAGCAGCCCCCAG\n",
    "CTCCCTCCCTCCGAGAGGAGCCCGGTCCGCGACCAGCCCAGCCCATCCCAGTCCCGCGCGGAGTCCTGGA\n",
    "TTCCAGCCGCTCGCAGTGACTCGGTACTCGGGATAGTGCCGGGGGCCGCAGCCCTGTCCCGCTGCCGCCG\n",
    "CCGGATGCCCCGAGTCGGCCGTCACGCACCCCCCGCGGGAGCCCGCGCCGCCCGCCGCGCCGGGGCCGTT\n",
    "TAAATGGGCCAAGTTGTGGCGGCGGCGTCGGCGGCGGAGTCTCCCAAGTCCCCGCCGGGCGGGCGCGCGC\n",
    "CAGTGGACGCGGGTGCACGACTGACGCGGCCCGGGCGGCGGGGCGGGGGCTTGGGACCCCCGAGAGGGGC\n",
    "GGGGACTCCGCGACTCCTCGCTGCCGGGCTCGGCCTGGCGGGTGGGTCGGCGAGCCGGGCGTGGGACTGC\n",
    "CCCGGGCGCGGGCGCTGGTGGCCGGGGCGCGGGACTCCAGACGCCCCGGGGAGCCCCGAGGCCCTGGAAC\n",
    "TGCGGCGCTCGGCGAGTCGATCCGGGATCGATAGCAGCTCCATGTCTCCGGCCTCTGAGGCCCCGCCGGC\n",
    "CGGCTGGGCAGTCCGGGGAGGCCTGGCGGGCGGCGCGTAGGCGGCGGCTGCGGGCGCCGGGGCGCACTAG\n",
    "CGGACGGCGTGGGCGCGCGGCCAGGCGCCTCCCCGGCCCCCGCGACCCAACTCCAGCCCGGGCCGGAATA\"\"\"\n",
    "    "
   ]
  },
  {
   "cell_type": "code",
   "execution_count": null,
   "id": "6678c168",
   "metadata": {},
   "outputs": [],
   "source": [
    "splice = re.split(r\"GT[AGCT]{14,20}GA\", dna)\n",
    "print(splice)"
   ]
  },
  {
   "cell_type": "code",
   "execution_count": null,
   "id": "20e52637",
   "metadata": {},
   "outputs": [],
   "source": [
    "for match in splice:\n",
    "    line = match.replace('\\n', '')\n",
    "    print(line)"
   ]
  },
  {
   "cell_type": "code",
   "execution_count": null,
   "id": "3782407a",
   "metadata": {},
   "outputs": [],
   "source": [
    "exons =[]\n",
    "for match in splice:\n",
    "    if match in splice:\n",
    "        line = match.replace('\\n','')\n",
    "        exons.append(line)\n",
    "print(exons)"
   ]
  },
  {
   "cell_type": "markdown",
   "id": "207f0fb6",
   "metadata": {},
   "source": [
    "##          Using RE on a List\n",
    "In this example we will demonstrate how we can use regex on a list.\n",
    "We will perform the following operations:\n",
    "1. Create an empty list.\n",
    "1. Populate the list with list method **_extend_**.\n",
    "1. Loop the list to check if any of the elements have the pattern, and if an element does then we will print it to standard output."
   ]
  },
  {
   "cell_type": "code",
   "execution_count": 6,
   "id": "b01fb83e",
   "metadata": {},
   "outputs": [
    {
     "name": "stdout",
     "output_type": "stream",
     "text": [
      "ATGCCAATGTCCTGTTTCTAATGTATATGCAACACCATGCACAAT has the motif.\n",
      "\n",
      "GTCTCAATGCATGTCTTCTATGCAACTAACCTCCATGTATGC has the motif.\n",
      "\n"
     ]
    }
   ],
   "source": [
    "import re\n",
    "seq10 = \"ATGCCAATGTCCTGTTTCTAATGTATATGCAACACCATGCACAAT\"\n",
    "seq11 = \"GTCTCAATGCATGTCTTCTATGCAACTAACCTCCATGTATGC\"\n",
    "seq12 = \"TGTGGCGGCGGCGTCGGCGGCGGAGTCTCCCAAGT\"\n",
    "seq13 = \"GGTGGCCGGGGCGCGGGACTCCAGACGCCCCGGGGA\"\n",
    "#empty list\n",
    "NTs = []\n",
    "#Populate the empty list \n",
    "NTs.extend((seq10,seq11,seq12,seq13))\n",
    "# Loop through the list to check for pattern. If pattern exist print the\n",
    "# sequence with a message.\n",
    "for nt in NTs:\n",
    "\tif re.search(r\"CAA[C|T]\",nt):\n",
    "\t\tprint(nt + \" has the motif.\\n\")"
   ]
  },
  {
   "cell_type": "markdown",
   "id": "eede2577",
   "metadata": {},
   "source": [
    "How do we know which sequence id we're working with? We can define a counter outside of the for loop and increment it inside of the if condition. Our counter will start with **_9_**, because the first sequence ID starts at **_10_**. Otherwise we would have the wrong sequence IDs for the match, which would be a logical error. "
   ]
  },
  {
   "cell_type": "code",
   "execution_count": null,
   "id": "9e300f06",
   "metadata": {},
   "outputs": [],
   "source": [
    "nt = 9\n",
    "for n in NTs:\n",
    "    if re.search(r\"CAA[C|T]\",n):\n",
    "        nt += 1 # We add one to each element starting from after 10.\n",
    "        print( \"seq\" + str(nt) + \":\" + n + \" have the motif.\\n\")"
   ]
  },
  {
   "cell_type": "markdown",
   "id": "ad757c5e",
   "metadata": {},
   "source": [
    "This looks a lot cleaner. We can easily look at seq1 and see that it\n",
    "matches the originally defined sequence.\n",
    "\n",
    "There are other instances where we will define an empty list and populate it while we are in the loop, then use a condition with regex to determine the flow of the program. This is a pretty common operation in Bioinformatics."
   ]
  },
  {
   "cell_type": "markdown",
   "id": "ec60c449",
   "metadata": {},
   "source": [
    "# Bringing It All Together\n",
    "\n",
    "We will use the **_DNA_** sequence again as the input for our program. \n",
    "We will perform the following operations:\n",
    "1. create a conditional statement where I search for the existence of the regex.\n",
    "1. If the pattern exist, we report the existence to stdout.\n",
    "1. We locate and return each match with their positions.\n",
    " "
   ]
  },
  {
   "cell_type": "code",
   "execution_count": null,
   "id": "289893b2",
   "metadata": {},
   "outputs": [],
   "source": [
    "import re\n",
    "# Now i'll create a conditional statement where I search for the existence of the regex\n",
    "if re.search(r\"GCCGCCGG\",dna):\n",
    "\tprint(\"The motif GCCGCCGG exist in the sequence.\")\n",
    "# We call on the re.finditer method. Using the return value \n",
    "# in a loop provides a means of matching the motif\n",
    "# and doing something with it.\n",
    "motif_match = re.finditer(r\"GGCGGC\",dna)\n",
    "for match in motif_match:\n",
    "\tmatch_start = match.start()\n",
    "\tmatch_end = match.end()\n",
    "\tprint( \"The motif GGCGGC is located at positions \" + str(match_start) + \" to \" + str(match_end))\n"
   ]
  },
  {
   "cell_type": "markdown",
   "id": "440e8e34",
   "metadata": {},
   "source": [
    "                    **_Exercise_**\n",
    "Replace the line of code with the RE method finditer with the method findall. Check out the difference.  Finditer has more flexibility because it is iterable."
   ]
  },
  {
   "cell_type": "code",
   "execution_count": null,
   "id": "638a266c",
   "metadata": {},
   "outputs": [],
   "source": [
    "# Perform exercise here."
   ]
  }
 ],
 "metadata": {
  "kernelspec": {
   "display_name": "Python 3 (ipykernel)",
   "language": "python",
   "name": "python3"
  },
  "language_info": {
   "codemirror_mode": {
    "name": "ipython",
    "version": 3
   },
   "file_extension": ".py",
   "mimetype": "text/x-python",
   "name": "python",
   "nbconvert_exporter": "python",
   "pygments_lexer": "ipython3",
   "version": "3.9.12"
  }
 },
 "nbformat": 4,
 "nbformat_minor": 5
}
