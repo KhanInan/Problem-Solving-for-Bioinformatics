{
 "cells": [
  {
   "cell_type": "code",
   "execution_count": 1,
   "id": "e2a3804f",
   "metadata": {},
   "outputs": [
    {
     "name": "stdout",
     "output_type": "stream",
     "text": [
      "ERROR: non-nucleotide characters present\n",
      "The GC content of CCACGCGTCCGCCGCGACCTGCGTTTTCCTGGGGGTCCGCAACTCTGGCTTGACCCAAGGACCCGGCCAC is 70.0 %\n",
      "The GC content of attgccattatataACCCGGCCACCCCCATAGGCAGATGTCAGGACAACTCGCATCTCAGCAGAGCAGCCCCTGGCCCAGG is 58.02469135802469 %\n",
      "The GC content of TCXCACCCATAGGCAGATGGCCTCCGCCCCACCCCCGGGAGGATTTCTTAATGGGGTGAAAATGC is 58.46153846153846 %\n",
      "The GC content of CAGTCCCCGAAGCCAGGGTTCCGGGACCCCCGGGGCCGAGCTGGGCGCGGGAAAAGAAttacggacttaGTCAGCCCCGCAGGGG is 69.41176470588235 %\n",
      "The GC content of ATGGGGTGATCGTCGCTCGCGGGCTCTGTCTTCCTGTTCACCCTCCTCTGCCCCCAACTCCATCTCTGAGACCTCCTGCCCCCCCA is 63.95348837209303 %\n",
      "The GC content of AAAAAAGAAGTCGCTCGCGTCGCTCGCGGGCTGGGCTCTGTCTGCGTCGCTCGCGGGCTAGAGAGCCAGGGTGA is 64.86486486486487 %\n"
     ]
    }
   ],
   "source": [
    "#series of sequences\n",
    "seq0,seq1,seq2,seq3,seq4,seq5 = 'CCACGCGTCCGCCGCGACCTGCGTTTTCCTGGGGGTCCGCAACTCTGGCTTGACCCAAGGACCCGGCCAC','attgccattatataACCCGGCCACCCCCATAGGCAGATGTCAGGACAACTCGCATCTCAGCAGAGCAGCCCCTGGCCCAGG','TCXCACCCATAGGCAGATGGCCTCCGCCCCACCCCCGGGAGGATTTCTTAATGGGGTGAAAATGC','CAGTCCCCGAAGCCAGGGTTCCGGGACCCCCGGGGCCGAGCTGGGCGCGGGAAAAGAAttacggacttaGTCAGCCCCGCAGGGG','ATGGGGTGATCGTCGCTCGCGGGCTCTGTCTTCCTGTTCACCCTCCTCTGCCCCCAACTCCATCTCTGAGACCTCCTGCCCCCCCA','AAAAAAGAAGTCGCTCGCGTCGCTCGCGGGCTGGGCTCTGTCTGCGTCGCTCGCGGGCTAGAGAGCCAGGGTGA'\n",
    "\n",
    "#sequences aggregated into a list\n",
    "NTs = [seq0,seq1,seq2,seq3,seq4,seq5]\n",
    "\n",
    "#specifying nucleotides\n",
    "nucleotides = ['G','A','C','T', 'U']\n",
    "\n",
    "#checking and removing if there are any non-nucleotide characters present. prompts user if any sequences contain non-nucleotide characters\n",
    "if any(x not in nucleotides for x in NTs):\n",
    "    print(\"ERROR: non-nucleotide characters present\")\n",
    "[''.join(i for i in x if i.upper() in nucleotides) for x in NTs]\n",
    "\n",
    "#calculating GC percent of each sequence using the aggregated list and a for loop to cycle through\n",
    "for y in NTs:\n",
    "    gCountNTs = y.count('G') + y.count('g')\n",
    "    cCountNTs = y.count('C') + y.count('c')\n",
    "    gcContentNTs = ((gCountNTs + cCountNTs)*100) / len(y)\n",
    "    print('The GC content of',y,'is',gcContentNTs,'%')"
   ]
  },
  {
   "cell_type": "code",
   "execution_count": null,
   "id": "983a2b3a",
   "metadata": {},
   "outputs": [],
   "source": []
  }
 ],
 "metadata": {
  "kernelspec": {
   "display_name": "Python 3 (ipykernel)",
   "language": "python",
   "name": "python3"
  },
  "language_info": {
   "codemirror_mode": {
    "name": "ipython",
    "version": 3
   },
   "file_extension": ".py",
   "mimetype": "text/x-python",
   "name": "python",
   "nbconvert_exporter": "python",
   "pygments_lexer": "ipython3",
   "version": "3.9.12"
  }
 },
 "nbformat": 4,
 "nbformat_minor": 5
}
